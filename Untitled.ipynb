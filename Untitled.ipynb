{
 "cells": [
  {
   "cell_type": "code",
   "execution_count": 1,
   "id": "f190b0fd",
   "metadata": {},
   "outputs": [],
   "source": [
    "import predict\n",
    "import time as tm\n",
    "import numpy as np"
   ]
  },
  {
   "cell_type": "code",
   "execution_count": 7,
   "id": "de34e00f",
   "metadata": {},
   "outputs": [
    {
     "name": "stdout",
     "output_type": "stream",
     "text": [
      "Time taken per image is 0.09252938605 seconds\n",
      "Parity match score is 0.9945\n"
     ]
    }
   ],
   "source": [
    "num_test = 2000\n",
    "filepaths = [ \"train/%d.png\" % i for i in range( num_test ) ]\n",
    "file = open( \"train/labels.txt\", \"r\" )\n",
    "gold_output = file.read().splitlines()\n",
    "file.close()\n",
    "\n",
    "# Get recommendations from predict.py and time the thing\n",
    "tic = tm.perf_counter()\n",
    "output = predict.decaptcha( filepaths )\n",
    "toc = tm.perf_counter()\n",
    "\n",
    "parity_match = np.array( [ 1 if x.strip().upper() == y.strip().upper() else 0 for ( x, y ) in zip ( output, gold_output ) ] ).sum()\n",
    "\n",
    "print( f\"Time taken per image is {(toc - tic) / num_test} seconds\" )\n",
    "print( f\"Parity match score is {parity_match / num_test}\" )"
   ]
  },
  {
   "cell_type": "code",
   "execution_count": null,
   "id": "b5ca8bc8",
   "metadata": {},
   "outputs": [],
   "source": []
  }
 ],
 "metadata": {
  "kernelspec": {
   "display_name": "Python 3 (ipykernel)",
   "language": "python",
   "name": "python3"
  },
  "language_info": {
   "codemirror_mode": {
    "name": "ipython",
    "version": 3
   },
   "file_extension": ".py",
   "mimetype": "text/x-python",
   "name": "python",
   "nbconvert_exporter": "python",
   "pygments_lexer": "ipython3",
   "version": "3.9.12"
  }
 },
 "nbformat": 4,
 "nbformat_minor": 5
}
